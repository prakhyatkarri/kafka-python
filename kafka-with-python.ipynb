{
 "cells": [
  {
   "cell_type": "markdown",
   "metadata": {},
   "source": [
    "## Produce and Consume messages to/from a Kafka Topic using Python\n",
    "\n",
    "For this example, we are using [landoop/fast-data-dev](https://hub.docker.com/r/landoop/fast-data-dev/) Docker image to spin up Kafka and its supporting tools.TimeoutError\n",
    "\n",
    "To connect to Kafka, we need Kafka Python library\n",
    "\n"
   ]
  },
  {
   "cell_type": "markdown",
   "metadata": {},
   "source": [
    "### Step 1: Run Kafka Cluster in Docker Compose"
   ]
  },
  {
   "cell_type": "code",
   "execution_count": 16,
   "metadata": {},
   "outputs": [
    {
     "name": "stderr",
     "output_type": "stream",
     "text": [
      "Container kafka-python-kafka-1  Running\n"
     ]
    }
   ],
   "source": [
    "!docker compose up --remove-orphans -d "
   ]
  },
  {
   "cell_type": "markdown",
   "metadata": {},
   "source": [
    "### Step 2: Install Kafka library"
   ]
  },
  {
   "cell_type": "code",
   "execution_count": 17,
   "metadata": {},
   "outputs": [
    {
     "name": "stdout",
     "output_type": "stream",
     "text": [
      "Collecting pykafka\n",
      "  Using cached pykafka-2.8.0.tar.gz (141 kB)\n",
      "  Preparing metadata (setup.py): started\n",
      "  Preparing metadata (setup.py): finished with status 'done'\n",
      "Requirement already satisfied: six>=1.5 in c:\\users\\prakh\\appdata\\local\\packages\\pythonsoftwarefoundation.python.3.10_qbz5n2kfra8p0\\localcache\\local-packages\\python310\\site-packages (from pykafka) (1.16.0)\n",
      "Collecting kazoo==2.5.0\n",
      "  Using cached kazoo-2.5.0-py2.py3-none-any.whl (129 kB)\n",
      "Requirement already satisfied: tabulate in c:\\users\\prakh\\appdata\\local\\packages\\pythonsoftwarefoundation.python.3.10_qbz5n2kfra8p0\\localcache\\local-packages\\python310\\site-packages (from pykafka) (0.9.0)\n",
      "Using legacy 'setup.py install' for pykafka, since package 'wheel' is not installed.\n",
      "Installing collected packages: kazoo, pykafka\n",
      "  Running setup.py install for pykafka: started\n",
      "  Running setup.py install for pykafka: finished with status 'done'\n",
      "Successfully installed kazoo-2.5.0 pykafka-2.8.0\n",
      "Note: you may need to restart the kernel to use updated packages.\n"
     ]
    },
    {
     "name": "stderr",
     "output_type": "stream",
     "text": [
      "\n",
      "[notice] A new release of pip available: 22.2.2 -> 22.3.1\n",
      "[notice] To update, run: C:\\Users\\prakh\\AppData\\Local\\Microsoft\\WindowsApps\\PythonSoftwareFoundation.Python.3.10_qbz5n2kfra8p0\\python.exe -m pip install --upgrade pip\n"
     ]
    }
   ],
   "source": [
    "pip install pykafka"
   ]
  },
  {
   "cell_type": "markdown",
   "metadata": {},
   "source": [
    "### Step 2: Create a Kafka Producer"
   ]
  },
  {
   "cell_type": "code",
   "execution_count": 18,
   "metadata": {},
   "outputs": [],
   "source": [
    "from pykafka import KafkaClient\n",
    "\n",
    "HOST = \"localhost:9092\"\n",
    "TOPIC = \"sampletopic\"\n",
    "\n",
    "client = KafkaClient(HOST)\n",
    "topic = client.topics[TOPIC]\n",
    "\n",
    "producer = topic.get_producer()"
   ]
  },
  {
   "cell_type": "markdown",
   "metadata": {},
   "source": [
    "### Step 3: Publish message to a topic"
   ]
  },
  {
   "cell_type": "code",
   "execution_count": 19,
   "metadata": {},
   "outputs": [],
   "source": [
    "from json import dumps\n",
    "\n",
    "for id in range(10):\n",
    "    data = {'id' : id}\n",
    "    producer.produce(str(data).encode('ascii'))"
   ]
  },
  {
   "cell_type": "markdown",
   "metadata": {},
   "source": [
    "### Step 4: Create a Kafka Consumer"
   ]
  },
  {
   "cell_type": "code",
   "execution_count": 20,
   "metadata": {},
   "outputs": [],
   "source": [
    "consumer = topic.get_simple_consumer(consumer_timeout_ms=5000)"
   ]
  },
  {
   "cell_type": "markdown",
   "metadata": {},
   "source": [
    "### Step 5: Consume message from the same Kafka topic"
   ]
  },
  {
   "cell_type": "code",
   "execution_count": 21,
   "metadata": {},
   "outputs": [
    {
     "name": "stdout",
     "output_type": "stream",
     "text": [
      "b'{\"id\": 0}' [key=None, id=0, offset=0]\n",
      "b'{\"id\": 1}' [key=None, id=0, offset=1]\n",
      "b\"{'id': 0}\" [key=None, id=0, offset=2]\n",
      "b\"{'id': 1}\" [key=None, id=0, offset=3]\n",
      "b\"{'id': 2}\" [key=None, id=0, offset=4]\n",
      "b\"{'id': 3}\" [key=None, id=0, offset=5]\n",
      "b\"{'id': 4}\" [key=None, id=0, offset=6]\n",
      "b\"{'id': 5}\" [key=None, id=0, offset=7]\n",
      "b\"{'id': 6}\" [key=None, id=0, offset=8]\n",
      "b\"{'id': 7}\" [key=None, id=0, offset=9]\n",
      "b\"{'id': 8}\" [key=None, id=0, offset=10]\n",
      "b\"{'id': 9}\" [key=None, id=0, offset=11]\n"
     ]
    }
   ],
   "source": [
    "for msg in consumer:\n",
    "    print(  \n",
    "    \"%s [key=%s, id=%s, offset=%s]\" %\n",
    "    (msg.value, msg.partition_key, msg.partition_id, msg.offset))"
   ]
  },
  {
   "cell_type": "markdown",
   "metadata": {},
   "source": [
    "### Step 6: Clean up resources\n"
   ]
  },
  {
   "cell_type": "code",
   "execution_count": null,
   "metadata": {},
   "outputs": [],
   "source": [
    "!docker compose down"
   ]
  }
 ],
 "metadata": {
  "kernelspec": {
   "display_name": "Python 3.10.8 64-bit (microsoft store)",
   "language": "python",
   "name": "python3"
  },
  "language_info": {
   "codemirror_mode": {
    "name": "ipython",
    "version": 3
   },
   "file_extension": ".py",
   "mimetype": "text/x-python",
   "name": "python",
   "nbconvert_exporter": "python",
   "pygments_lexer": "ipython3",
   "version": "3.10.8"
  },
  "orig_nbformat": 4,
  "vscode": {
   "interpreter": {
    "hash": "634444e4a42c0510ef2be0612b67bda39089e87c9d0419d021c4c25ff12e5e30"
   }
  }
 },
 "nbformat": 4,
 "nbformat_minor": 2
}
